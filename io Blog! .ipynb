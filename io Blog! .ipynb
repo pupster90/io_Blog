{
 "cells": [
  {
   "cell_type": "code",
   "execution_count": null,
   "metadata": {},
   "outputs": [],
   "source": [
    "%run ~/Apps/io_View/embed.ipynb"
   ]
  },
  {
   "cell_type": "markdown",
   "metadata": {},
   "source": [
    "<div class=\"text-center\"><font size=\"7\">The <font size=\"7\" color=\"orange\">io</font> <font size=\"7\">Blog</font></div>\n",
    "<div class=\"text-center\" style=\"padding-left: 12em; padding-right: 7em; padding-top: 1em; font-size: 120%; color: gray\">\n",
    "Your stop for everything io!\n",
    "</div>    "
   ]
  },
  {
   "cell_type": "markdown",
   "metadata": {},
   "source": [
    "# <font color=\"green\">Welcome to </font> <font color=\"orange\">io!</font> <small><font color=\"gray\">(Start Here)</font></small>"
   ]
  },
  {
   "cell_type": "markdown",
   "metadata": {},
   "source": [
    "Congratulations on installing <font color=\"orange\">io!</font> io makes it easy to build profesional <font color=\"orange\">Jupyter</font> programs on **any device!** io has **<font color=\"red\">2 big goals:</font>**\n",
    "> 1. Give **everyone** a chance to become a programmer \n",
    "> 2. Create a supportive **Jupyter community,** promoting new open source ideas "
   ]
  },
  {
   "cell_type": "code",
   "execution_count": null,
   "metadata": {},
   "outputs": [],
   "source": [
    "embedYoutube(\"https://www.youtube.com/embed/L_dnNAXPSXM\")"
   ]
  },
  {
   "cell_type": "markdown",
   "metadata": {},
   "source": [
    "I love computer programming, it gives me a way to express myself. I want to give as many people as I can the opportunity to experience that **freedom.** I also want a place where people who love programming can meet and share ideas. That's why I made <font color=\"orange\">io!</font>"
   ]
  },
  {
   "cell_type": "markdown",
   "metadata": {},
   "source": [
    "The io blog is for everybody! I create <font color=\"red\">Youtube tutorials</font> for both advanced programmers and total beginners. I also have regular video announcments on io updates and other people's cool Jupyter software. Since the blog covers many different subjects, it's **<font color=\"blue\">organized by color</font>**"
   ]
  },
  {
   "cell_type": "markdown",
   "metadata": {},
   "source": [
    "## This blog uses <FONT COLOR=\"blue\">C</FONT><FONT COLOR=\"orange\">o</FONT><FONT COLOR=\"red\">l</FONT><FONT COLOR=\"magenta\">o</FONT><FONT COLOR=\"green\">r</FONT>"
   ]
  },
  {
   "cell_type": "markdown",
   "metadata": {},
   "source": [
    "To help people find what they are looking for I organize this blog by color. Different colored sections mean different things:"
   ]
  },
  {
   "cell_type": "markdown",
   "metadata": {},
   "source": [
    "| <font size=5>Color</font> | <font size=5>Topic</font> |\n",
    "| :- | :- |\n",
    "| <font size=5 color=\"blue\">Blue</font> | <font size=3>Beginner Tutorial</font> |\n",
    "|<font size=5 color=\"magenta\">Pink</font> | <font size=3>Advanced Tutorial</font> |\n",
    "| <font size=5 color=\"green\">Green</font> | <font size=3>io Announcment</font> |\n",
    "| <font size=5 color=\"orange\">Orange</font> | <font size=3>New Software</font> |\n",
    "| <font size=5 >Black</font> | <font size=3>Other Stuff</font> |"
   ]
  },
  {
   "cell_type": "markdown",
   "metadata": {},
   "source": [
    "# <font color=\"magenta\">Install Jupyter & io </font> <font color=\"gray\" size=\"4\">October 12, 2018</font>"
   ]
  },
  {
   "cell_type": "markdown",
   "metadata": {},
   "source": [
    "Install Jupyter on ANY DEVICE! This walks you through the steps and shows how to create beautiful web applications in python."
   ]
  },
  {
   "cell_type": "code",
   "execution_count": null,
   "metadata": {},
   "outputs": [],
   "source": [
    "embedYoutube(\"https://www.youtube.com/embed/SrREjZSPqBI\")"
   ]
  },
  {
   "cell_type": "markdown",
   "metadata": {},
   "source": [
    "# <font color=\"magenta\">Jupyter Introduction</font> <font color=\"gray\" size=\"4\">November 4, 2018</font>"
   ]
  },
  {
   "cell_type": "code",
   "execution_count": null,
   "metadata": {},
   "outputs": [],
   "source": [
    "embedYoutube(\"https://www.youtube.com/embed/DDq02TkfHN8\")"
   ]
  },
  {
   "cell_type": "markdown",
   "metadata": {},
   "source": [
    "# <font color=\"magenta\">Security</font> <font color=\"gray\" size=\"4\">November 5, 2018</font>"
   ]
  },
  {
   "cell_type": "code",
   "execution_count": null,
   "metadata": {},
   "outputs": [],
   "source": [
    "embedYoutube(\"https://www.youtube.com/embed/G6M4tbl3TBc\")"
   ]
  },
  {
   "cell_type": "markdown",
   "metadata": {},
   "source": [
    "# <font color=\"blue\">Install Python</font>  <font color=\"gray\" size=\"4\">November 7, 2018</font>"
   ]
  },
  {
   "cell_type": "code",
   "execution_count": null,
   "metadata": {},
   "outputs": [],
   "source": [
    "embedYoutube(\"https://www.youtube.com/embed/z23QqTod50g\")"
   ]
  },
  {
   "cell_type": "markdown",
   "metadata": {},
   "source": [
    "# <font color=\"blue\">Jupyter Password</font>  <font color=\"gray\" size=\"4\">November 7, 2018</font>"
   ]
  },
  {
   "cell_type": "code",
   "execution_count": null,
   "metadata": {},
   "outputs": [],
   "source": [
    "embedYoutube(\"https://www.youtube.com/embed/g4Yc0aY1Vz8\")"
   ]
  },
  {
   "cell_type": "markdown",
   "metadata": {},
   "source": [
    "# 2018 iPad Review  <font color=\"gray\" size=\"4\">November 11, 2018</font>"
   ]
  },
  {
   "cell_type": "code",
   "execution_count": null,
   "metadata": {},
   "outputs": [],
   "source": [
    "embedYoutube(\"https://www.youtube.com/embed/H7MD-7ssp8M\")"
   ]
  },
  {
   "cell_type": "markdown",
   "metadata": {},
   "source": [
    "# Set Up Your  iPad  <font color=\"gray\" size=\"4\">November 11, 2018</font>"
   ]
  },
  {
   "cell_type": "code",
   "execution_count": null,
   "metadata": {},
   "outputs": [],
   "source": [
    "embedYoutube(\"https://www.youtube.com/embed/TCWXWzHhUb0\")"
   ]
  },
  {
   "cell_type": "markdown",
   "metadata": {},
   "source": [
    "# <font color=\"red\">Coming Soon: </font> <font color=\"green\">io_Online Topics</font>"
   ]
  },
  {
   "cell_type": "code",
   "execution_count": null,
   "metadata": {},
   "outputs": [],
   "source": []
  }
 ],
 "metadata": {
  "hide_input": false,
  "kernelspec": {
   "display_name": "Python 3",
   "language": "python",
   "name": "python3"
  },
  "language_info": {
   "codemirror_mode": {
    "name": "ipython",
    "version": 3
   },
   "file_extension": ".py",
   "mimetype": "text/x-python",
   "name": "python",
   "nbconvert_exporter": "python",
   "pygments_lexer": "ipython3",
   "version": "3.6.3"
  },
  "toc": {
   "base_numbering": 1,
   "nav_menu": {},
   "number_sections": true,
   "sideBar": true,
   "skip_h1_title": false,
   "title_cell": "Table of Contents",
   "title_sidebar": "Contents",
   "toc_cell": false,
   "toc_position": {},
   "toc_section_display": true,
   "toc_window_display": false
  },
  "varInspector": {
   "cols": {
    "lenName": 16,
    "lenType": 16,
    "lenVar": 40
   },
   "kernels_config": {
    "python": {
     "delete_cmd_postfix": "",
     "delete_cmd_prefix": "del ",
     "library": "var_list.py",
     "varRefreshCmd": "print(var_dic_list())"
    },
    "r": {
     "delete_cmd_postfix": ") ",
     "delete_cmd_prefix": "rm(",
     "library": "var_list.r",
     "varRefreshCmd": "cat(var_dic_list()) "
    }
   },
   "types_to_exclude": [
    "module",
    "function",
    "builtin_function_or_method",
    "instance",
    "_Feature"
   ],
   "window_display": false
  },
  "widgets": {
   "application/vnd.jupyter.widget-state+json": {
    "state": {},
    "version_major": 2,
    "version_minor": 0
   }
  }
 },
 "nbformat": 4,
 "nbformat_minor": 2
}
